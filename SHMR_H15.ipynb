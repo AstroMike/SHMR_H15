{
 "cells": [
  {
   "cell_type": "code",
   "execution_count": 34,
   "metadata": {},
   "outputs": [],
   "source": [
    "import numpy as np\n",
    "\n",
    "import matplotlib.pyplot as plt\n",
    "%matplotlib inline"
   ]
  },
  {
   "cell_type": "code",
   "execution_count": 35,
   "metadata": {},
   "outputs": [],
   "source": [
    "def shmr_h15(mstel,\n",
    "             z=0.,\n",
    "             fstar05 = 0.0357,\n",
    "             fstarz = 0.026,\n",
    "             lmstar05 = 11.04,\n",
    "             mstarz = 0.56,\n",
    "             betastar = 0.43,\n",
    "             gammastar = 1.0):\n",
    "\n",
    "    f1star = fstar05 + (z-0.5)*fstarz\n",
    "    lm1star = lmstar05 + (z-0.5)*mstarz\n",
    "    m1star = 10.**lm1star\n",
    "    \n",
    "    mrat = mstel/m1star\n",
    "    \n",
    "    fstar = 2*f1star/(mrat**(-betastar)+mrat*gammastar)\n",
    "\n",
    "    return mstel/fstar\n",
    "\n",
    "def shmr_h15_def(mstel, z=0.):\n",
    "\n",
    "    return shmr_h15(mstel,\n",
    "                    z,\n",
    "                    fstar05 = 0.0357,\n",
    "                    fstarz = 0.026,\n",
    "                    lmstar05 = 11.04,\n",
    "                    mstarz = 0.56,\n",
    "                    betastar = 0.43,\n",
    "                    gammastar = 1.0)\n",
    "\n",
    "def shmr_h15_nomstarevol(mstel, z=0.):\n",
    "\n",
    "    return shmr_h15(mstel,\n",
    "                    z,\n",
    "                    fstar05 = 0.0350,\n",
    "                    fstarz = 0.026,\n",
    "                    lmstar05 = 11.05,\n",
    "                    mstarz = 0.,\n",
    "                    betastar = 0.40,\n",
    "                    gammastar = 1.0)\n",
    "\n",
    "def shmr_h15_noevol(mstel, z=0.):\n",
    "\n",
    "    return shmr_h15(mstel,\n",
    "                    z,\n",
    "                    fstar05 = 0.0340,\n",
    "                    fstarz = 0.,\n",
    "                    lmstar05 = 11.07,\n",
    "                    mstarz = 0.0,\n",
    "                    betastar = 0.42,\n",
    "                    gammastar = 1.0)"
   ]
  },
  {
   "cell_type": "code",
   "execution_count": 39,
   "metadata": {},
   "outputs": [
    {
     "name": "stdout",
     "output_type": "stream",
     "text": [
      "MW  M_* =   5e+10 M_200=2.13e+12\n",
      "M31 M_* =   1e+11 M_200=5.56e+12\n",
      "M87 M_* = 5.5e+11 M_200= 1.2e+14\n"
     ]
    },
    {
     "data": {
      "image/png": "[encoded data removed]",
      "text/plain": [
       "<Figure size 432x288 with 1 Axes>"
      ]
     },
     "metadata": {
      "needs_background": "light"
     },
     "output_type": "display_data"
    }
   ],
   "source": [
    "mstel = 10.**(np.arange(8.5,12.,0.1))\n",
    "mhalo = shmr_h15_def(mstel,z=0.)\n",
    "plt.loglog(mstel, mhalo, ls='--',label='$z=0$')\n",
    "\n",
    "combos=zip([0.3,0.5,0.7],['b','g','r'],['$z=0.3$','$z=0.5$','$z=0.7$'])\n",
    "\n",
    "for z,c,l in combos:\n",
    "    mhalo = shmr_h15_def(mstel,z=z)\n",
    "    plt.loglog(mstel, mhalo, c=c,label=l)\n",
    "    \n",
    "plt.xlabel(r\"$M_{*}$\")\n",
    "plt.ylabel(r\"$M_{200}$\")\n",
    "plt.legend()\n",
    "plt.savefig(\"mstel_mhalo_h15\")\n",
    "\n",
    "mstel = 5.0e10\n",
    "print('MW  M_* ={:8.3g} M_200={:8.3g}'.format(mstel, shmr_h15_def(mstel,z=0.)))\n",
    "\n",
    "mstel=1.e11\n",
    "print('M31 M_* ={:8.3g} M_200={:8.3g}'.format(mstel, shmr_h15_def(mstel,z=0.)))\n",
    "\n",
    "mstel=5.5e11\n",
    "print('M87 M_* ={:8.3g} M_200={:8.3g}'.format(mstel, shmr_h15_def(mstel,z=0.)))\n"
   ]
  },
  {
   "cell_type": "code",
   "execution_count": null,
   "metadata": {},
   "outputs": [],
   "source": []
  }
 ],
 "metadata": {
  "kernelspec": {
   "display_name": "Python 3",
   "language": "python",
   "name": "python3"
  },
  "language_info": {
   "codemirror_mode": {
    "name": "ipython",
    "version": 3
   },
   "file_extension": ".py",
   "mimetype": "text/x-python",
   "name": "python",
   "nbconvert_exporter": "python",
   "pygments_lexer": "ipython3",
   "version": "3.7.3"
  }
 },
 "nbformat": 4,
 "nbformat_minor": 2
}
